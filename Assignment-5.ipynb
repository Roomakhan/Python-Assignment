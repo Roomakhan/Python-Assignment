{
 "cells": [
  {
   "cell_type": "code",
   "execution_count": 1,
   "metadata": {},
   "outputs": [
    {
     "name": "stdout",
     "output_type": "stream",
     "text": [
      "Input a number to compute the factiorial : 5\n",
      "120\n"
     ]
    }
   ],
   "source": [
    "#Exercise 1\n",
    "def factorial(n):\n",
    "    if n == 0:\n",
    "        return 1\n",
    "    else:\n",
    "        return n * factorial(n-1)\n",
    "n=int(input(\"Input a number to compute the factiorial : \"))\n",
    "print(factorial(n))"
   ]
  },
  {
   "cell_type": "code",
   "execution_count": 2,
   "metadata": {},
   "outputs": [
    {
     "name": "stdout",
     "output_type": "stream",
     "text": [
      "Original String :  My Name Is Rooma Khan\n",
      "No. of Upper case characters :  5\n",
      "No. of Lower case Characters :  12\n"
     ]
    }
   ],
   "source": [
    "#Exercise 2\n",
    "def string_test(s):\n",
    "    d={\"UPPER_CASE\":0, \"LOWER_CASE\":0}\n",
    "    for c in s:\n",
    "        if c.isupper():\n",
    "           d[\"UPPER_CASE\"]+=1\n",
    "        elif c.islower():\n",
    "           d[\"LOWER_CASE\"]+=1\n",
    "        else:\n",
    "           pass\n",
    "    print (\"Original String : \", s)\n",
    "    print (\"No. of Upper case characters : \", d[\"UPPER_CASE\"])\n",
    "    print (\"No. of Lower case Characters : \", d[\"LOWER_CASE\"])\n",
    "\n",
    "string_test('My Name Is Rooma Khan')"
   ]
  },
  {
   "cell_type": "code",
   "execution_count": 3,
   "metadata": {},
   "outputs": [
    {
     "name": "stdout",
     "output_type": "stream",
     "text": [
      "0  is Even Number\n",
      "1  is Odd Number\n",
      "2  is Even Number\n",
      "3  is Odd Number\n",
      "4  is Even Number\n",
      "5  is Odd Number\n",
      "6  is Even Number\n"
     ]
    }
   ],
   "source": [
    "#Exercise 3\n",
    "def List(L):\n",
    "    for i in L:\n",
    "        if i%2 == 0:\n",
    "            print(i,\" is Even Number\")\n",
    "        else:\n",
    "            print(i,\" is Odd Number\")\n",
    "\n",
    "List([0,1,2,3,4,5,6])"
   ]
  },
  {
   "cell_type": "code",
   "execution_count": 4,
   "metadata": {},
   "outputs": [
    {
     "name": "stdout",
     "output_type": "stream",
     "text": [
      "Enter a string: level\n",
      "String:  level\n",
      "Reverse:  level\n",
      "It is a palindrom\n"
     ]
    }
   ],
   "source": [
    "#Exercise 4\n",
    "def palindrome(st):\n",
    "    rev=st[::-1]\n",
    "    print(\"String: \",st)\n",
    "    print(\"Reverse: \",rev)\n",
    "    if(st==rev):\n",
    "        return True\n",
    "    else:\n",
    "        return False\n",
    "x=input(\"Enter a string: \")\n",
    "if palindrome(x):\n",
    "    print(\"It is a palindrom\")\n",
    "else:\n",
    "    print(\"It is not a palindrom\")"
   ]
  },
  {
   "cell_type": "code",
   "execution_count": 7,
   "metadata": {},
   "outputs": [
    {
     "name": "stdout",
     "output_type": "stream",
     "text": [
      "Number is Prime\n",
      "Number is not Prime\n"
     ]
    }
   ],
   "source": [
    "#Exercise 5\n",
    "def prime(a):\n",
    "    if a > 1:\n",
    "        for i in range(2,a):\n",
    "            if a%i == 0:\n",
    "                print(\"Number is not Prime\")\n",
    "                break\n",
    "            else:\n",
    "                print(\"Number is Prime\")\n",
    "                break\n",
    "    else:\n",
    "        print(\"Not Prime\")\n",
    "        \n",
    "prime(5)\n",
    "prime(8)"
   ]
  },
  {
   "cell_type": "code",
   "execution_count": 8,
   "metadata": {},
   "outputs": [
    {
     "name": "stdout",
     "output_type": "stream",
     "text": [
      "No. of items: 2\n",
      "Enter Item name: apple\n",
      "Enter Item Price: 60\n",
      "Enter Item name: potato\n",
      "Enter Item Price: 30\n",
      "Item:  apple  Price: $ 60\n",
      "Item:  potato  Price: $ 30\n"
     ]
    }
   ],
   "source": [
    "#Exercise 6\n",
    "def item(a,b):\n",
    "    print(\"Item: \",a,\" Price: $\",b)\n",
    "\n",
    "d = {}\n",
    "n =  int(input(\"No. of items: \"))\n",
    "for i in range(0,n):\n",
    "    a = input(\"Enter Item name: \")\n",
    "    b = input(\"Enter Item Price: \")\n",
    "    d[a]=b\n",
    "\n",
    "for j in d.keys():\n",
    "    item(j,d[j])"
   ]
  },
  {
   "cell_type": "code",
   "execution_count": null,
   "metadata": {},
   "outputs": [],
   "source": []
  }
 ],
 "metadata": {
  "kernelspec": {
   "display_name": "Python 3",
   "language": "python",
   "name": "python3"
  },
  "language_info": {
   "codemirror_mode": {
    "name": "ipython",
    "version": 3
   },
   "file_extension": ".py",
   "mimetype": "text/x-python",
   "name": "python",
   "nbconvert_exporter": "python",
   "pygments_lexer": "ipython3",
   "version": "3.7.4"
  }
 },
 "nbformat": 4,
 "nbformat_minor": 2
}
