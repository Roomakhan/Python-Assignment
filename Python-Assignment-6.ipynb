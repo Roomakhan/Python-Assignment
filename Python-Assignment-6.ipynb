{
 "cells": [
  {
   "cell_type": "code",
   "execution_count": 2,
   "metadata": {},
   "outputs": [
    {
     "name": "stdout",
     "output_type": "stream",
     "text": [
      "Object oriented programming is a programming paradigm based on the concept of objects, which can contain data, in the form of fields, and code, in the form of procedures. A feature of objects is an object's procedures that can access and often modify the data fields of the object with which they are associated.\n"
     ]
    }
   ],
   "source": [
    "#Exercise 1\n",
    "print(\"Object oriented programming is a programming paradigm based on the concept of objects, which can contain data, in the form of fields, and code, in the form of procedures. A feature of objects is an object's procedures that can access and often modify the data fields of the object with which they are associated.\")"
   ]
  },
  {
   "cell_type": "code",
   "execution_count": 3,
   "metadata": {},
   "outputs": [
    {
     "name": "stdout",
     "output_type": "stream",
     "text": [
      "1)It provides a clear modular structure for programs which makes it good for defining abstract datatypes in which implementation details are hidden.\n",
      "2)Objects can also be reused within an across applications. The reuse of software also lowers the cost of development.\n",
      "3)It makes software easier to maintain. Since the design is modular, part of the system can be updated in case of issues without a need to make large-scale changes.\n",
      "4)Reuse also enables faster development. Object-oriented programming languages come with rich libraries of objects, and code developed during projects is also reusable in future projects.\n",
      "5)It provides a good framework for code libraries where the supplied software components can be easily adapted and modified by the programmer. This is particularly useful for developing graphical user interfaces.\n"
     ]
    }
   ],
   "source": [
    "#Exercise 2\n",
    "print(\"1)It provides a clear modular structure for programs which makes it good for defining abstract datatypes in which implementation details are hidden.\\n2)Objects can also be reused within an across applications. The reuse of software also lowers the cost of development.\\n3)It makes software easier to maintain. Since the design is modular, part of the system can be updated in case of issues without a need to make large-scale changes.\\n4)Reuse also enables faster development. Object-oriented programming languages come with rich libraries of objects, and code developed during projects is also reusable in future projects.\\n5)It provides a good framework for code libraries where the supplied software components can be easily adapted and modified by the programmer. This is particularly useful for developing graphical user interfaces.\")\n"
   ]
  },
  {
   "cell_type": "code",
   "execution_count": 4,
   "metadata": {},
   "outputs": [
    {
     "name": "stdout",
     "output_type": "stream",
     "text": [
      "*******Method*******\n",
      "1)Method is called by its name, but it is associated to an object (dependent).\n",
      "2)A method is implicitly passed the object on which it is invoked.\n",
      "3)It may or may not return any data.\n",
      "4)A method can operate on the data (instance variables) that is contained by the corresponding class.\n",
      "\n",
      "*******Function*******\n",
      "1)Function is block of code that is also called by its name. (independent)\n",
      "2)The function can have different parameters or may not have any at all. If any data (parameters) are passed, they are passed explicitly.\n",
      "3)It may or may not return any data.\n",
      "4)Function does not deal with Class and its instance concept.\n"
     ]
    }
   ],
   "source": [
    "#Exercise 3\n",
    "print(\"*******Method*******\")\n",
    "print(\"1)Method is called by its name, but it is associated to an object (dependent).\\n2)A method is implicitly passed the object on which it is invoked.\\n3)It may or may not return any data.\\n4)A method can operate on the data (instance variables) that is contained by the corresponding class.\\n\")\n",
    "print(\"*******Function*******\")\n",
    "print(\"1)Function is block of code that is also called by its name. (independent)\\n2)The function can have different parameters or may not have any at all. If any data (parameters) are passed, they are passed explicitly.\\n3)It may or may not return any data.\\n4)Function does not deal with Class and its instance concept.\")\n"
   ]
  },
  {
   "cell_type": "code",
   "execution_count": 7,
   "metadata": {},
   "outputs": [
    {
     "name": "stdout",
     "output_type": "stream",
     "text": [
      "Class: This means that almost all the code is implemented using a special construct called classes. Programmers use classes to keep related things together. This is done using the keyword “class,” which is a grouping of object-oriented constructs.\n",
      "\n",
      "Object: Python is an object oriented programming language. Unlike procedure oriented programming, where the main emphasis is on functions, object oriented programming stress on objects. Object is simply a collection of data (variables) and methods (functions) that act on those data. And, class is a blueprint for the object.\n",
      "\n",
      "Attribute: The attributes are data members (class variables and instance variables) and methods, accessed via dot notation. Class variable − A variable that is shared by all instances of a class. Class variables are defined within a class but outside any of the class's methods.\n",
      "\n",
      "Behavior: A class behavior determines how an instance of that class operates; for example, how it will react if asked to do something by another class or object or if its internal state changes. Behavior is the only way objects can do anything to themselves or have anything done to them.\n"
     ]
    }
   ],
   "source": [
    "#Exercise 4\n",
    "print(\"Class: This means that almost all the code is implemented using a special construct called classes. Programmers use classes to keep related things together. This is done using the keyword “class,” which is a grouping of object-oriented constructs.\\n\")\n",
    "print(\"Object: Python is an object oriented programming language. Unlike procedure oriented programming, where the main emphasis is on functions, object oriented programming stress on objects. Object is simply a collection of data (variables) and methods (functions) that act on those data. And, class is a blueprint for the object.\\n\")\n",
    "print(\"Attribute: The attributes are data members (class variables and instance variables) and methods, accessed via dot notation. Class variable − A variable that is shared by all instances of a class. Class variables are defined within a class but outside any of the class's methods.\\n\")\n",
    "print(\"Behavior: A class behavior determines how an instance of that class operates; for example, how it will react if asked to do something by another class or object or if its internal state changes. Behavior is the only way objects can do anything to themselves or have anything done to them.\")\n"
   ]
  },
  {
   "cell_type": "code",
   "execution_count": 8,
   "metadata": {},
   "outputs": [
    {
     "name": "stdout",
     "output_type": "stream",
     "text": [
      "Toyota is in Blue color with model XLI\n"
     ]
    }
   ],
   "source": [
    "#Exercise 5\n",
    "class Car(object):\n",
    "\n",
    "    def __init__(self, model, color, name, company, Gear):\n",
    "        self.model = model\n",
    "        self.color = color\n",
    "        self.name = name\n",
    "        self.company = company\n",
    "        self.Gear= Gear\n",
    "\n",
    "    def get_model(self):\n",
    "        return self.model\n",
    "\n",
    "    def set_color(self, color):\n",
    "        self.color = color\n",
    "\n",
    "    def get_details(self, model, color,company):\n",
    "        print(self.company, \"is in\" , self.color, \"color with model\", self.model)\n",
    "\n",
    "    def display(self):\n",
    "        print(self.name)\n",
    "\n",
    "Car1=Car(\"XLI\",\"Red\",\"Corolla\",\"Toyota\",\"Munual\")\n",
    "Car1.get_model()\n",
    "Car1.set_color(\"Blue\")\n",
    "Car1.get_details(\"Toyota\",\"Grey\",\"XLI\")\n",
    "Car2=Car(\"1.8 S\",\"Black\",\"Civic\",\"Honda\",\"Munual\")\n",
    "Car3=Car(\"1.3 i-VTEC \",\"Purple\",\"City\",\"Honda\",\"Automatic\")\n",
    "Car4=Car(\"4.0L V6\",\"White\",\"Parado\",\"Toyato\",\"Automatic\")\n",
    "Car5=Car(\"VX Euro\",\"White\",\"Mehran\",\"Suzuki\",\"Manual\")"
   ]
  },
  {
   "cell_type": "code",
   "execution_count": null,
   "metadata": {},
   "outputs": [],
   "source": []
  }
 ],
 "metadata": {
  "kernelspec": {
   "display_name": "Python 3",
   "language": "python",
   "name": "python3"
  },
  "language_info": {
   "codemirror_mode": {
    "name": "ipython",
    "version": 3
   },
   "file_extension": ".py",
   "mimetype": "text/x-python",
   "name": "python",
   "nbconvert_exporter": "python",
   "pygments_lexer": "ipython3",
   "version": "3.7.4"
  }
 },
 "nbformat": 4,
 "nbformat_minor": 2
}
