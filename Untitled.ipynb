{
 "cells": [
  {
   "cell_type": "code",
   "execution_count": 1,
   "metadata": {},
   "outputs": [
    {
     "name": "stdout",
     "output_type": "stream",
     "text": [
      "Enter your Mathematics marks: 98\n",
      "Enter your Physics marks: 95\n",
      "Enter your Chemistry marks: 87\n",
      "Enter your English marks: 85\n",
      "Enter your Islamiat marks: 48\n",
      "Grade: A+\n"
     ]
    }
   ],
   "source": [
    "##EXCERCISE 1\n",
    "Sub1=int(input(\"Enter your Mathematics marks: \"))\n",
    "Sub2=int(input(\"Enter your Physics marks: \"))\n",
    "Sub3=int(input(\"Enter your Chemistry marks: \"))\n",
    "Sub4=int(input(\"Enter your English marks: \"))\n",
    "Sub5=int(input(\"Enter your Islamiat marks: \"))\n",
    "avg=(Sub1+Sub2+Sub3+Sub4+Sub5)/5\n",
    "if(avg>=80):\n",
    "    print(\"Grade: A+\")\n",
    "elif(avg>=70):\n",
    "    print(\"Grade: A\")    \n",
    "elif(avg>=60):\n",
    "    print(\"Grade: B\")\n",
    "elif(avg>=50):\n",
    "    print(\"Grade: C\")           \n",
    "elif(avg>=40):\n",
    "    print(\"Grade: B\")\n",
    "else:\n",
    "    print(\"You are Fail\")"
   ]
  },
  {
   "cell_type": "code",
   "execution_count": 2,
   "metadata": {},
   "outputs": [
    {
     "name": "stdout",
     "output_type": "stream",
     "text": [
      "Enter a number: 5\n",
      "This is an odd number.\n"
     ]
    }
   ],
   "source": [
    "##EXCERCISE 2\n",
    "num = int(input(\"Enter a number: \"))\n",
    "mod = num % 2\n",
    "if mod > 0:\n",
    "    print(\"This is an odd number.\")\n",
    "else:\n",
    "    print(\"This is an even number.\")"
   ]
  },
  {
   "cell_type": "code",
   "execution_count": 3,
   "metadata": {},
   "outputs": [
    {
     "name": "stdout",
     "output_type": "stream",
     "text": [
      "The length of list is:  6\n"
     ]
    }
   ],
   "source": [
    "##EXCERCISE 3\n",
    "n = len([10, 20, 30, \"a\", \"b\", \"c\"]) \n",
    "print(\"The length of list is: \", n)"
   ]
  },
  {
   "cell_type": "code",
   "execution_count": 4,
   "metadata": {},
   "outputs": [
    {
     "name": "stdout",
     "output_type": "stream",
     "text": [
      "How many numbers: 4\n",
      "Enter number: 1\n",
      "Enter number: 2\n",
      "Enter number: 3\n",
      "Enter number: 4\n",
      "Sum of elements in given list is : 10\n"
     ]
    }
   ],
   "source": [
    "##EXCERCISE 4\n",
    "lst = []\n",
    "num = int(input('How many numbers: '))\n",
    "for n in range(num):\n",
    "    numbers = int(input('Enter number: '))\n",
    "    lst.append(numbers)\n",
    "print(\"Sum of elements in given list is :\", sum(lst))"
   ]
  },
  {
   "cell_type": "code",
   "execution_count": 5,
   "metadata": {},
   "outputs": [
    {
     "name": "stdout",
     "output_type": "stream",
     "text": [
      "How many numbers: 5\n",
      "Enter number 12\n",
      "Enter number 56\n",
      "Enter number 98\n",
      "Enter number 345\n",
      "Enter number 1\n",
      "Maximum element in the list is : 345\n"
     ]
    }
   ],
   "source": [
    "##EXCERCISE 5\n",
    "lst = []\n",
    "num = int(input('How many numbers: '))\n",
    "for n in range(num):\n",
    "    numbers = int(input('Enter number '))\n",
    "    lst.append(numbers)\n",
    "print(\"Maximum element in the list is :\", max(lst))"
   ]
  },
  {
   "cell_type": "code",
   "execution_count": 6,
   "metadata": {},
   "outputs": [
    {
     "name": "stdout",
     "output_type": "stream",
     "text": [
      "1\n",
      "1\n",
      "2\n",
      "3\n"
     ]
    }
   ],
   "source": [
    "##EXCERCISE 5\n",
    "a = [1, 1, 2, 3, 5, 8, 13, 21, 34, 55, 89]\n",
    "for i in a:\n",
    "    if i < 5:\n",
    "        print(i)"
   ]
  },
  {
   "cell_type": "code",
   "execution_count": null,
   "metadata": {},
   "outputs": [],
   "source": []
  }
 ],
 "metadata": {
  "kernelspec": {
   "display_name": "Python 3",
   "language": "python",
   "name": "python3"
  },
  "language_info": {
   "codemirror_mode": {
    "name": "ipython",
    "version": 3
   },
   "file_extension": ".py",
   "mimetype": "text/x-python",
   "name": "python",
   "nbconvert_exporter": "python",
   "pygments_lexer": "ipython3",
   "version": "3.7.4"
  }
 },
 "nbformat": 4,
 "nbformat_minor": 2
}
